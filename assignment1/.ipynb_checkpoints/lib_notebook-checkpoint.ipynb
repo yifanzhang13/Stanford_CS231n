{
 "cells": [
  {
   "cell_type": "markdown",
   "metadata": {},
   "source": [
    "# NumPy"
   ]
  },
  {
   "cell_type": "markdown",
   "metadata": {
    "ExecuteTime": {
     "end_time": "2020-09-02T05:38:05.197057Z",
     "start_time": "2020-09-02T05:38:05.195138Z"
    }
   },
   "source": [
    "## np.split()\n",
    "> np.split()可以处理均等分割，但是遇到不均等分割时会报错"
   ]
  },
  {
   "cell_type": "code",
   "execution_count": 16,
   "metadata": {
    "ExecuteTime": {
     "end_time": "2020-09-21T02:57:05.441565Z",
     "start_time": "2020-09-21T02:57:05.438247Z"
    }
   },
   "outputs": [
    {
     "name": "stdout",
     "output_type": "stream",
     "text": [
      "array1:\n",
      "[[0 1 2]\n",
      " [3 4 5]]\n",
      "array2:\n",
      "[[0 1]\n",
      " [2 3]]\n"
     ]
    }
   ],
   "source": [
    "import numpy as np\n",
    "#生成要拆分的两个数组\n",
    "array1=np.arange(6).reshape(2,3)\n",
    "array2=np.arange(4).reshape(2,2)\n",
    "print('array1:')\n",
    "print(array1)\n",
    "print(\"array2:\")\n",
    "print(array2)"
   ]
  },
  {
   "cell_type": "code",
   "execution_count": 17,
   "metadata": {
    "ExecuteTime": {
     "end_time": "2020-09-21T02:57:05.446223Z",
     "start_time": "2020-09-21T02:57:05.443540Z"
    }
   },
   "outputs": [
    {
     "name": "stdout",
     "output_type": "stream",
     "text": [
      "[array([[0, 1, 2]]), array([[3, 4, 5]]), array([], shape=(0, 3), dtype=int64)]\n"
     ]
    }
   ],
   "source": [
    "ar1 = np.array_split(array1,3)\n",
    "print(ar1)"
   ]
  },
  {
   "cell_type": "markdown",
   "metadata": {},
   "source": [
    "### "
   ]
  },
  {
   "cell_type": "code",
   "execution_count": 18,
   "metadata": {
    "ExecuteTime": {
     "end_time": "2020-09-21T02:57:05.451340Z",
     "start_time": "2020-09-21T02:57:05.448390Z"
    }
   },
   "outputs": [
    {
     "name": "stdout",
     "output_type": "stream",
     "text": [
      "[[ 0  1  2  3]\n",
      " [ 4  5  6  7]\n",
      " [ 8  9 10 11]]\n"
     ]
    }
   ],
   "source": [
    "import numpy as np\n",
    "\n",
    "A = np.arange(12).reshape(3,4)\n",
    "print(A)"
   ]
  },
  {
   "cell_type": "code",
   "execution_count": 19,
   "metadata": {
    "ExecuteTime": {
     "end_time": "2020-09-21T02:57:05.456777Z",
     "start_time": "2020-09-21T02:57:05.453426Z"
    }
   },
   "outputs": [
    {
     "name": "stdout",
     "output_type": "stream",
     "text": [
      "[array([[0, 1],\n",
      "       [4, 5],\n",
      "       [8, 9]]), array([[ 2,  3],\n",
      "       [ 6,  7],\n",
      "       [10, 11]])]\n",
      "\n",
      "[array([[0, 1, 2, 3]]), array([[4, 5, 6, 7]]), array([[ 8,  9, 10, 11]])]\n"
     ]
    }
   ],
   "source": [
    "print(np.split(A, 2, axis=1))  # 将A分割为2部分，按列分割\n",
    "print()\n",
    "print(np.split(A, 3, axis=0))  # 将A分割为3部分，按行分割"
   ]
  },
  {
   "cell_type": "markdown",
   "metadata": {},
   "source": [
    "## np.array_split()\n",
    "> np.array_split()可以处理不均等分割"
   ]
  },
  {
   "cell_type": "code",
   "execution_count": 20,
   "metadata": {
    "ExecuteTime": {
     "end_time": "2020-09-21T02:57:05.462985Z",
     "start_time": "2020-09-21T02:57:05.459101Z"
    }
   },
   "outputs": [
    {
     "name": "stdout",
     "output_type": "stream",
     "text": [
      "[array([[0, 1],\n",
      "       [4, 5],\n",
      "       [8, 9]]), array([[ 2],\n",
      "       [ 6],\n",
      "       [10]]), array([[ 3],\n",
      "       [ 7],\n",
      "       [11]])]\n",
      "[array([[0, 1, 2, 3]]), array([[4, 5, 6, 7]]), array([[ 8,  9, 10, 11]]), array([], shape=(0, 4), dtype=int64)]\n"
     ]
    }
   ],
   "source": [
    "print(np.array_split(A,3,axis=1)) # axis=1表示按列分割，4列分3份，不均等，但是用array_split()不会报错\n",
    "print(np.array_split(A,4,axis=0)) # axis-0表示按行分割，3行分4份，少的那一份系统会自动补一个空array"
   ]
  },
  {
   "cell_type": "markdown",
   "metadata": {},
   "source": [
    "## np.vsplit() & np.hsplit()\n",
    "> vsplit垂直方向分割，hsplit水平方向分割"
   ]
  },
  {
   "cell_type": "code",
   "execution_count": 21,
   "metadata": {
    "ExecuteTime": {
     "end_time": "2020-09-21T02:57:05.468477Z",
     "start_time": "2020-09-21T02:57:05.465383Z"
    }
   },
   "outputs": [
    {
     "name": "stdout",
     "output_type": "stream",
     "text": [
      "[array([[0, 1, 2, 3]]), array([[4, 5, 6, 7]]), array([[ 8,  9, 10, 11]])]\n",
      "[array([[0, 1],\n",
      "       [4, 5],\n",
      "       [8, 9]]), array([[ 2,  3],\n",
      "       [ 6,  7],\n",
      "       [10, 11]])]\n"
     ]
    }
   ],
   "source": [
    "# 垂直方向分割\n",
    "print(np.vsplit(A, 3))\n",
    "# 水平方向分割\n",
    "print(np.hsplit(A, 2))"
   ]
  },
  {
   "cell_type": "markdown",
   "metadata": {},
   "source": [
    "## broadcat"
   ]
  },
  {
   "cell_type": "code",
   "execution_count": 22,
   "metadata": {
    "ExecuteTime": {
     "end_time": "2020-09-21T02:57:05.474142Z",
     "start_time": "2020-09-21T02:57:05.470483Z"
    }
   },
   "outputs": [
    {
     "ename": "SyntaxError",
     "evalue": "invalid syntax (<ipython-input-22-bb2bfded4215>, line 1)",
     "output_type": "error",
     "traceback": [
      "\u001b[0;36m  File \u001b[0;32m\"<ipython-input-22-bb2bfded4215>\"\u001b[0;36m, line \u001b[0;32m1\u001b[0m\n\u001b[0;31m    arr = [i for i in range(10), 1,[]]\u001b[0m\n\u001b[0m                               ^\u001b[0m\n\u001b[0;31mSyntaxError\u001b[0m\u001b[0;31m:\u001b[0m invalid syntax\n"
     ]
    }
   ],
   "source": [
    "arr = [i for i in range(10), 1,[]]"
   ]
  },
  {
   "cell_type": "code",
   "execution_count": null,
   "metadata": {
    "ExecuteTime": {
     "end_time": "2020-09-21T02:57:05.476764Z",
     "start_time": "2020-09-21T02:57:05.458Z"
    }
   },
   "outputs": [],
   "source": [
    "# 4X3\n",
    "a = np.array([[ 0, 0, 0],\n",
    "           [10,10,10],\n",
    "           [20,20,20],\n",
    "           [30,30,30]])\n",
    "b = np.array([1,2,3]) # 1X3\n",
    "\n",
    "# 当a+b时，b会拓展成4X3然后加到a上\n",
    "print(a + b)\n"
   ]
  },
  {
   "cell_type": "markdown",
   "metadata": {},
   "source": [
    "## np.sum()"
   ]
  },
  {
   "cell_type": "code",
   "execution_count": null,
   "metadata": {
    "ExecuteTime": {
     "end_time": "2020-09-21T02:57:05.477763Z",
     "start_time": "2020-09-21T02:57:05.460Z"
    }
   },
   "outputs": [],
   "source": [
    "print(np.sum(a,axis=1)) # 将每一行的和算出来并排成一行，shape(1,a.row_num)\n",
    "print(np.sum(a,axis=0)) # 将每一列的和算出来并排成一行，shape(1,a.col_num)"
   ]
  },
  {
   "cell_type": "markdown",
   "metadata": {},
   "source": [
    "## numpy.random.randn"
   ]
  },
  {
   "cell_type": "markdown",
   "metadata": {},
   "source": [
    " numpy.random.randn(d0,d1,…,dn)\n",
    "\n",
    "    randn函数返回一个或一组样本，具有标准正态分布。\n",
    "    dn表格每个维度\n",
    "    返回值为指定维度的array"
   ]
  },
  {
   "cell_type": "code",
   "execution_count": null,
   "metadata": {
    "ExecuteTime": {
     "end_time": "2020-09-21T02:57:05.478952Z",
     "start_time": "2020-09-21T02:57:05.463Z"
    },
    "scrolled": true
   },
   "outputs": [],
   "source": [
    "print(np.random.randn()) # 当没有参数时，返回单个数据\n",
    "print(np.random.randn(4,3,2))\n",
    "\n",
    "print(a[:,2])"
   ]
  },
  {
   "cell_type": "code",
   "execution_count": null,
   "metadata": {
    "ExecuteTime": {
     "end_time": "2020-09-21T02:57:05.479939Z",
     "start_time": "2020-09-21T02:57:05.466Z"
    }
   },
   "outputs": [],
   "source": [
    "x = np.random.randn(500,3073).astype(np.int64)\n",
    "w = np.random.randn(3073,10).astype(np.int64)\n",
    "y = np.random.randn(500).astype(np.int64)\n",
    "scores = x.dot(w)\n",
    "correct_scores = scores[np.arange(x.shape[0]),y].reshape(-1,1)\n",
    "print(correct_scores.shape)\n",
    "margins = np.maximum(0, scores - correct_scores +1)\n",
    "print(margins.shape)"
   ]
  },
  {
   "cell_type": "code",
   "execution_count": null,
   "metadata": {
    "ExecuteTime": {
     "end_time": "2020-09-21T02:57:05.480864Z",
     "start_time": "2020-09-21T02:57:05.469Z"
    }
   },
   "outputs": [],
   "source": [
    "softmax_output = np.array(  # dummy values, not softmax\n",
    "    [[1, 2, 3], \n",
    "     [4, 5, 6],\n",
    "     [7, 8, 9],\n",
    "     [10, 11, 12]]\n",
    ")\n",
    "num_train = 4  # length of the array\n",
    "y = [2, 1, 0, 2]  # a labels; values for indexing along the second axis\n",
    "softmax_output[range(num_train), list(y)]"
   ]
  },
  {
   "cell_type": "markdown",
   "metadata": {},
   "source": [
    "## np.reshape()"
   ]
  },
  {
   "cell_type": "code",
   "execution_count": 23,
   "metadata": {
    "ExecuteTime": {
     "end_time": "2020-09-21T02:57:05.589532Z",
     "start_time": "2020-09-21T02:57:05.586545Z"
    }
   },
   "outputs": [
    {
     "name": "stdout",
     "output_type": "stream",
     "text": [
      "[[0.9379312  0.8935712  0.88834445 0.25608993 0.54701951 0.0641874 ]\n",
      " [0.14503762 0.38339008 0.55894119 0.0911447  0.85364491 0.74349149]]\n"
     ]
    }
   ],
   "source": [
    "a = np.random.rand(3,4)\n",
    "print(np.reshape(a,(2,-1))) # 原本是3X4的矩阵，-1被推断出是6，输出2X6的矩阵"
   ]
  },
  {
   "cell_type": "markdown",
   "metadata": {},
   "source": [
    "## np.arrange "
   ]
  },
  {
   "cell_type": "markdown",
   "metadata": {},
   "source": [
    "语法\n",
    "\n",
    "numpy.arange(start, stop, step, dtype = None)\n",
    "\n",
    "在给定间隔内返回均匀间隔的值。\n",
    "\n",
    "值在半开区间 [开始，停止]内生成（换句话说，包括开始但不包括停止的区间）,返回的是 ndarray 。\n",
    "\n",
    "参数：\n",
    "\n",
    "start —— 开始位置，数字，可选项，默认起始值为0\n",
    "stop —— 停止位置，数字\n",
    "step —— 步长，数字，可选项， 默认步长为1，如果指定了step，则还必须给出start。\n",
    "dtype —— 输出数组的类型。 如果未给出dtype，则从其他输入参数推断数据类型。\n",
    "\n",
    "返回：\n",
    "arange：ndarray\n",
    "均匀间隔值的数组。\n",
    "注意：对于浮点参数（参数为浮点），结果的长度为ceil（（stop - start）/ step）） 由于浮点溢出，此规则可能导致最后一个元素大于stop。因此要特别注意"
   ]
  },
  {
   "cell_type": "code",
   "execution_count": 24,
   "metadata": {
    "ExecuteTime": {
     "end_time": "2020-09-21T02:57:05.596035Z",
     "start_time": "2020-09-21T02:57:05.591219Z"
    }
   },
   "outputs": [
    {
     "name": "stdout",
     "output_type": "stream",
     "text": [
      "[0 1 2 3 4]\n",
      "<class 'numpy.ndarray'>\n",
      "[1 2 3 4]\n",
      "[1 3]\n",
      "[1.  1.6 2.2 2.8 3.4 4.  4.6 5.2]\n"
     ]
    }
   ],
   "source": [
    "A = np.arange(5)  # 只有结束项\n",
    "print(A)  # 结果 [0 1 2 3 4] 结果不包含结束项\n",
    "print(type(A))  # 结果 <class 'numpy.ndarray'>\n",
    "\n",
    "A = np.arange(1, 5)  # 起点为1，步长默认为1\n",
    "print(A)  # 结果 [1 2 3 4]\n",
    "\n",
    "A = np.arange(1, 5, 2)  # 步长默认为2\n",
    "print(A)  # 结果 [1 3]\n",
    "\n",
    "A = np.arange(1, 5.2, 0.6)  # 浮点数参数，结果就不一定完全符合了\n",
    "print(A)  # 结果 [1.  1.6 2.2 2.8 3.4 4.  4.6 5.2]"
   ]
  },
  {
   "cell_type": "markdown",
   "metadata": {},
   "source": [
    "## np.random.choice"
   ]
  },
  {
   "cell_type": "code",
   "execution_count": 25,
   "metadata": {
    "ExecuteTime": {
     "end_time": "2020-09-21T02:57:05.602243Z",
     "start_time": "2020-09-21T02:57:05.597667Z"
    }
   },
   "outputs": [
    {
     "name": "stdout",
     "output_type": "stream",
     "text": [
      "[2 1 0]\n",
      "[2 0 3]\n"
     ]
    }
   ],
   "source": [
    "# 参数意思分别 是从a 中以概率P，随机选择3个, p没有指定的时候相当于是一致的分布\n",
    "a1 = np.random.choice(a=5, size=3, replace=False, p=None)\n",
    "print(a1)\n",
    "# 非一致的分布，会以多少的概率提出来\n",
    "a2 = np.random.choice(a=5, size=3, replace=False, p=[0.2, 0.1, 0.3, 0.4, 0.0])\n",
    "print(a2)\n",
    "# replacement 代表的意思是抽样之后还放不放回去，如果是False的话，那么出来的三个数都不一样，如果是True的话， 有可能会出现重复的，因为前面的抽的放回去了。"
   ]
  },
  {
   "cell_type": "markdown",
   "metadata": {},
   "source": [
    "## np.maximum"
   ]
  },
  {
   "cell_type": "markdown",
   "metadata": {},
   "source": [
    "np.maximum：(X, Y, out=None)\n",
    "\n",
    "    X 与 Y 逐位比较取其大者；\n",
    "    最少接收两个参数"
   ]
  },
  {
   "cell_type": "code",
   "execution_count": 12,
   "metadata": {
    "ExecuteTime": {
     "end_time": "2020-09-22T02:10:02.824951Z",
     "start_time": "2020-09-22T02:10:02.818265Z"
    }
   },
   "outputs": [
    {
     "name": "stdout",
     "output_type": "stream",
     "text": [
      "[[1 2 3 4]\n",
      " [1 2 3 4]\n",
      " [1 2 3 4]\n",
      " [1 2 3 4]\n",
      " [1 2 3 4]]\n",
      "[[ 5  4  3  2]\n",
      " [-5 -4 -3 -2]\n",
      " [ 5  4  3  2]\n",
      " [-5  4  3  2]]\n",
      "[[-10  24  18  12]\n",
      " [-10  24  18  12]\n",
      " [-10  24  18  12]\n",
      " [-10  24  18  12]\n",
      " [-10  24  18  12]]\n",
      "[[ 0 24 18 12]\n",
      " [ 0 24 18 12]\n",
      " [ 0 24 18 12]\n",
      " [ 0 24 18 12]\n",
      " [ 0 24 18 12]]\n"
     ]
    }
   ],
   "source": [
    "x = np.array([[1,2,3,4],[1,2,3,4],[1,2,3,4],[1,2,3,4],[1,2,3,4]])\n",
    "print(x)\n",
    "y = np.array([[5,4,3,2],[-5,-4,-3,-2],[5,4,3,2],[-5,4,3,2]])\n",
    "print(y)\n",
    "print(x@y)\n",
    "print(np.maximum(x@y,0))\n"
   ]
  }
 ],
 "metadata": {
  "kernelspec": {
   "display_name": "Python 3",
   "language": "python",
   "name": "python3"
  },
  "language_info": {
   "codemirror_mode": {
    "name": "ipython",
    "version": 3
   },
   "file_extension": ".py",
   "mimetype": "text/x-python",
   "name": "python",
   "nbconvert_exporter": "python",
   "pygments_lexer": "ipython3",
   "version": "3.8.3"
  },
  "toc": {
   "base_numbering": 1,
   "nav_menu": {},
   "number_sections": true,
   "sideBar": true,
   "skip_h1_title": false,
   "title_cell": "Table of Contents",
   "title_sidebar": "Contents",
   "toc_cell": false,
   "toc_position": {
    "height": "calc(100% - 180px)",
    "left": "10px",
    "top": "150px",
    "width": "335.067px"
   },
   "toc_section_display": true,
   "toc_window_display": true
  },
  "varInspector": {
   "cols": {
    "lenName": 16,
    "lenType": 16,
    "lenVar": 40
   },
   "kernels_config": {
    "python": {
     "delete_cmd_postfix": "",
     "delete_cmd_prefix": "del ",
     "library": "var_list.py",
     "varRefreshCmd": "print(var_dic_list())"
    },
    "r": {
     "delete_cmd_postfix": ") ",
     "delete_cmd_prefix": "rm(",
     "library": "var_list.r",
     "varRefreshCmd": "cat(var_dic_list()) "
    }
   },
   "position": {
    "height": "271.85px",
    "left": "964.667px",
    "right": "20px",
    "top": "120px",
    "width": "350px"
   },
   "types_to_exclude": [
    "module",
    "function",
    "builtin_function_or_method",
    "instance",
    "_Feature"
   ],
   "window_display": false
  }
 },
 "nbformat": 4,
 "nbformat_minor": 4
}
