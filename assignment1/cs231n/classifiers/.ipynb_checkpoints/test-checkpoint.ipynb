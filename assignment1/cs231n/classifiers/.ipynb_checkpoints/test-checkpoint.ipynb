{
 "cells": [
  {
   "cell_type": "code",
   "execution_count": 1,
   "metadata": {
    "ExecuteTime": {
     "end_time": "2020-08-31T08:52:08.654276Z",
     "start_time": "2020-08-31T08:52:08.651927Z"
    }
   },
   "outputs": [],
   "source": [
    "import numpy as np"
   ]
  },
  {
   "cell_type": "code",
   "execution_count": 13,
   "metadata": {
    "ExecuteTime": {
     "end_time": "2020-08-31T09:00:52.805893Z",
     "start_time": "2020-08-31T09:00:52.799624Z"
    }
   },
   "outputs": [
    {
     "name": "stdout",
     "output_type": "stream",
     "text": [
      "[[1 2 3 4 3]\n",
      " [2 6 4 2 7]\n",
      " [4 5 2 8 2]]\n",
      "\n",
      "[[4 2 6 7 3]\n",
      " [2 7 4 3 7]\n",
      " [1 6 3 0 1]]\n",
      "[[5.19615242 6.63324958 6.        ]\n",
      " [8.06225775 1.41421356 6.4807407 ]\n",
      " [5.19615242 7.87400787 8.71779789]]\n"
     ]
    }
   ],
   "source": [
    "# x = np.array([[1,2,3,4,3],[2,6,4,2,7],[4,5,2,8,2]])\n",
    "# y = np.array([[4,2,6,7,3],[2,7,4,3,7],[1,6,3,0,1]])\n",
    "# d = np.zeros((3,3))\n",
    "# print(x)\n",
    "# print()\n",
    "# print(y)\n",
    "\n",
    "# for i in range(3):\n",
    "#     d[i,:] = np.sqrt(np.sum((x[i] - y) ** 2, axis=1))\n",
    "\n",
    "# print(d)"
   ]
  },
  {
   "cell_type": "code",
   "execution_count": 14,
   "metadata": {
    "ExecuteTime": {
     "end_time": "2020-08-31T12:00:55.830817Z",
     "start_time": "2020-08-31T12:00:55.349749Z"
    }
   },
   "outputs": [
    {
     "data": {
      "text/plain": [
       "[<matplotlib.lines.Line2D at 0x11fc54610>]"
      ]
     },
     "execution_count": 14,
     "metadata": {},
     "output_type": "execute_result"
    },
    {
     "data": {
      "image/png": "[encoded data removed]",
      "text/plain": [
       "<Figure size 432x288 with 1 Axes>"
      ]
     },
     "metadata": {
      "needs_background": "light"
     },
     "output_type": "display_data"
    }
   ],
   "source": [
    "import numpy as np\n",
    "\n",
    "rg = np.random.default_rng(1)\n",
    "\n",
    "import matplotlib.pyplot as plt\n",
    "\n",
    "# Build a vector of 10000 normal deviates with variance 0.5^2 and mean 2\n",
    "\n",
    "mu, sigma = 2, 0.5\n",
    "\n",
    "v = rg.normal(mu,sigma,10000)\n",
    "\n",
    "# Plot a normalized histogram with 50 bins\n",
    "\n",
    "plt.hist(v, bins=50, density=1)       # matplotlib version (plot)\n",
    "\n",
    "# Compute the histogram with numpy and then plot it\n",
    "\n",
    "(n, bins) = np.histogram(v, bins=50, density=True)  # NumPy version (no plot)\n",
    "\n",
    "plt.plot(.5*(bins[1:]+bins[:-1]), n)\n"
   ]
  },
  {
   "cell_type": "code",
   "execution_count": 35,
   "metadata": {
    "ExecuteTime": {
     "end_time": "2020-09-01T14:41:51.346896Z",
     "start_time": "2020-09-01T14:41:51.319959Z"
    }
   },
   "outputs": [
    {
     "name": "stdout",
     "output_type": "stream",
     "text": [
      "[[1 2 3]\n",
      " [3 4 5]\n",
      " [5 6 7]\n",
      " [7 8 9]]\n",
      "\n",
      "[[2 3 4]\n",
      " [1 2 3]]\n",
      "\n",
      "[[20 38 56 74]\n",
      " [14 26 38 50]]\n",
      "\n",
      "nrow=:%d ncol:%d 2 4\n"
     ]
    }
   ],
   "source": [
    "x=np.array([[1,2,3],[3,4,5],[5,6,7],[7,8,9]])\n",
    "\n",
    "print(x)\n",
    "print()\n",
    "\n",
    "y=np.array([[2,3,4],[1,2,3]])\n",
    "\n",
    "print(y)\n",
    "print()\n",
    "\n",
    "M=np.dot(y,x.T)\n",
    "\n",
    "print(M)\n",
    "print()\n",
    "\n",
    "nrow=M.shape[0]\n",
    "ncol=M.shape[1]\n",
    "\n",
    "print('nrow=:%d'+' '+'ncol:%d',nrow,ncol)"
   ]
  },
  {
   "cell_type": "code",
   "execution_count": 38,
   "metadata": {
    "ExecuteTime": {
     "end_time": "2020-09-01T14:44:23.396409Z",
     "start_time": "2020-09-01T14:44:23.389567Z"
    }
   },
   "outputs": [
    {
     "name": "stdout",
     "output_type": "stream",
     "text": [
      "[29 14]\n",
      "[ 14  50 110 194]\n",
      "\n",
      "[29 29 29 29 14 14 14 14]\n",
      "[ 14  14  50  50 110 110 194 194]\n",
      "\n",
      "[[29 29 29 29]\n",
      " [14 14 14 14]]\n",
      "\n",
      "[[ 14  14]\n",
      " [ 50  50]\n",
      " [110 110]\n",
      " [194 194]]\n",
      "\n",
      "[[  3   3  27  75]\n",
      " [  0  12  48 108]]\n",
      "\n",
      "[[ 1.73205081  1.73205081  5.19615242  8.66025404]\n",
      " [ 0.          3.46410162  6.92820323 10.39230485]]\n"
     ]
    }
   ],
   "source": [
    "te=np.diag(np.dot(y,y.T))\n",
    "tr=np.diag(np.dot(x,x.T))\n",
    "\n",
    "print(te)\n",
    "print(tr)\n",
    "print()\n",
    "\n",
    "print(np.repeat(te,ncol))\n",
    "print(np.repeat(tr,nrow))\n",
    "print()\n",
    "\n",
    "te=np.reshape(np.repeat(te,ncol),M.shape)  # ncol:4 ,M: 2x4\n",
    "tr=np.reshape(np.repeat(tr,nrow),M.T.shape) #nrow:2 ,M.T:4x2\n",
    "\n",
    "print(te)\n",
    "print()\n",
    "print(tr)\n",
    "print()\n",
    "\n",
    "sq=-2*M+te+tr.T\n",
    "dists=np.sqrt(sq)\n",
    "print(sq)\n",
    "print()\n",
    "print(dists)"
   ]
  }
 ],
 "metadata": {
  "kernelspec": {
   "display_name": "Python 3",
   "language": "python",
   "name": "python3"
  },
  "language_info": {
   "codemirror_mode": {
    "name": "ipython",
    "version": 3
   },
   "file_extension": ".py",
   "mimetype": "text/x-python",
   "name": "python",
   "nbconvert_exporter": "python",
   "pygments_lexer": "ipython3",
   "version": "3.8.3"
  },
  "toc": {
   "base_numbering": 1,
   "nav_menu": {},
   "number_sections": true,
   "sideBar": true,
   "skip_h1_title": false,
   "title_cell": "Table of Contents",
   "title_sidebar": "Contents",
   "toc_cell": false,
   "toc_position": {},
   "toc_section_display": true,
   "toc_window_display": false
  },
  "varInspector": {
   "cols": {
    "lenName": 16,
    "lenType": 16,
    "lenVar": 40
   },
   "kernels_config": {
    "python": {
     "delete_cmd_postfix": "",
     "delete_cmd_prefix": "del ",
     "library": "var_list.py",
     "varRefreshCmd": "print(var_dic_list())"
    },
    "r": {
     "delete_cmd_postfix": ") ",
     "delete_cmd_prefix": "rm(",
     "library": "var_list.r",
     "varRefreshCmd": "cat(var_dic_list()) "
    }
   },
   "position": {
    "height": "469.183px",
    "left": "1332.33px",
    "right": "20px",
    "top": "120px",
    "width": "354.333px"
   },
   "types_to_exclude": [
    "module",
    "function",
    "builtin_function_or_method",
    "instance",
    "_Feature"
   ],
   "window_display": false
  }
 },
 "nbformat": 4,
 "nbformat_minor": 4
}
